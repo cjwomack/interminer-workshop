{
 "cells": [
  {
   "cell_type": "markdown",
   "metadata": {},
   "source": [
    "# InterMineR Workshop Use Case\n",
    "\n",
    "\n",
    "\n",
    "We are going to re-create the workflow we did using the web interface using the R API.\n",
    "\n",
    "The basic steps are:  \n",
    "\n",
    "1. Load the InterMine library and choose an InterMine to query.\n",
    "2. Query 1: PAX6 + Pancreas: Fetch a list of genes that have medium or high expression in the pancreas and are in our PAX6 targets list\n",
    "3. Query 2: Diabetes Genes: Fetch a list of genes that are associated with diabetes\n",
    "4. Intersection: Find which genes are present in _both_ Query 1 and Query2.\n",
    "5. GWAS: Compare the intersection of the previous query with results from GWAS studies.\n"
   ]
  },
  {
   "cell_type": "markdown",
   "metadata": {},
   "source": [
    "### Getting started - Load InterMineR and choose an InterMine"
   ]
  },
  {
   "cell_type": "markdown",
   "metadata": {},
   "source": [
    "Load the InterMine library. If it's not already installed, visit\n",
    "https://bioconductor.org/packages/release/bioc/html/InterMineR.html and follow the instructions to install.\n"
   ]
  },
  {
   "cell_type": "code",
   "execution_count": 4,
   "metadata": {},
   "outputs": [],
   "source": [
    "library(InterMineR)"
   ]
  },
  {
   "cell_type": "markdown",
   "metadata": {},
   "source": [
    "We want to query human data - so let's look and see what InterMines are available: "
   ]
  },
  {
   "cell_type": "code",
   "execution_count": 5,
   "metadata": {},
   "outputs": [
    {
     "data": {
      "text/html": [
       "<dl class=dl-horizontal>\n",
       "\t<dt>BMAP</dt>\n",
       "\t\t<dd>'https://bmap.jgi.doe.gov/bmapmine/'</dd>\n",
       "\t<dt>BeanMine</dt>\n",
       "\t\t<dd>'https://mines.legumeinfo.org/beanmine'</dd>\n",
       "\t<dt>BovineMine</dt>\n",
       "\t\t<dd>'http://genomes.missouri.edu/bovinemine'</dd>\n",
       "\t<dt>CHOmine</dt>\n",
       "\t\t<dd>'https://chomine.boku.ac.at/chomine'</dd>\n",
       "\t<dt>ChickpeaMine</dt>\n",
       "\t\t<dd>'https://mines.legumeinfo.org/chickpeamine'</dd>\n",
       "\t<dt>CowpeaMine</dt>\n",
       "\t\t<dd>'https://mines.legumeinfo.org/cowpeamine'</dd>\n",
       "\t<dt>FlyMine</dt>\n",
       "\t\t<dd>'http://www.flymine.org/flymine'</dd>\n",
       "\t<dt>GrapeMine</dt>\n",
       "\t\t<dd>'http://urgi.versailles.inra.fr/GrapeMine'</dd>\n",
       "\t<dt>HumanMine</dt>\n",
       "\t\t<dd>'http://www.humanmine.org/humanmine'</dd>\n",
       "\t<dt>HymenopteraMine</dt>\n",
       "\t\t<dd>'http://hymenopteragenome.org/hymenopteramine'</dd>\n",
       "\t<dt>IndigoMine</dt>\n",
       "\t\t<dd>'http://www.cbrc.kaust.edu.sa/indigo'</dd>\n",
       "\t<dt>LegumeMine</dt>\n",
       "\t\t<dd>'https://mines.legumeinfo.org/legumemine'</dd>\n",
       "\t<dt>MaizeMine</dt>\n",
       "\t\t<dd>'http://maizemine.rnet.missouri.edu:8080/maizemine'</dd>\n",
       "\t<dt>MedicMine</dt>\n",
       "\t\t<dd>'http://medicmine.jcvi.org/medicmine'</dd>\n",
       "\t<dt>MitoMiner</dt>\n",
       "\t\t<dd>'http://mitominer.mrc-mbu.cam.ac.uk/release-4.0'</dd>\n",
       "\t<dt>ModMine</dt>\n",
       "\t\t<dd>'http://intermine.modencode.org/release-33'</dd>\n",
       "\t<dt>MouseMine</dt>\n",
       "\t\t<dd>'http://www.mousemine.org/mousemine'</dd>\n",
       "\t<dt>OakMine</dt>\n",
       "\t\t<dd>'https://urgi.versailles.inra.fr/OakMine_PM1N'</dd>\n",
       "\t<dt>PeanutMine</dt>\n",
       "\t\t<dd>'https://mines.legumeinfo.org/peanutmine'</dd>\n",
       "\t<dt>PhytoMine</dt>\n",
       "\t\t<dd>'https://phytozome.jgi.doe.gov/phytomine/'</dd>\n",
       "\t<dt>PlanMine</dt>\n",
       "\t\t<dd>'http://planmine.mpi-cbg.de/planmine'</dd>\n",
       "\t<dt>RatMine</dt>\n",
       "\t\t<dd>'http://ratmine.mcw.edu/ratmine'</dd>\n",
       "\t<dt>RepetDB</dt>\n",
       "\t\t<dd>'http://urgi.versailles.inra.fr/repetdb'</dd>\n",
       "\t<dt>SoyMine</dt>\n",
       "\t\t<dd>'https://mines.legumeinfo.org/soymine'</dd>\n",
       "\t<dt>TargetMine</dt>\n",
       "\t\t<dd>'https://targetmine.mizuguchilab.org/targetmine'</dd>\n",
       "\t<dt>ThaleMine</dt>\n",
       "\t\t<dd>'https://apps.araport.org/thalemine'</dd>\n",
       "\t<dt>WheatMine</dt>\n",
       "\t\t<dd>'https://urgi.versailles.inra.fr/WheatMine'</dd>\n",
       "\t<dt>WormMine</dt>\n",
       "\t\t<dd>'http://intermine.wormbase.org/tools/wormmine/'</dd>\n",
       "\t<dt>XenMine</dt>\n",
       "\t\t<dd>'http://www.xenmine.org/xenmine'</dd>\n",
       "\t<dt>YeastMine</dt>\n",
       "\t\t<dd>'https://yeastmine.yeastgenome.org/yeastmine'</dd>\n",
       "\t<dt>ZebrafishMine</dt>\n",
       "\t\t<dd>'http://zebrafishmine.org'</dd>\n",
       "</dl>\n"
      ],
      "text/latex": [
       "\\begin{description*}\n",
       "\\item[BMAP] 'https://bmap.jgi.doe.gov/bmapmine/'\n",
       "\\item[BeanMine] 'https://mines.legumeinfo.org/beanmine'\n",
       "\\item[BovineMine] 'http://genomes.missouri.edu/bovinemine'\n",
       "\\item[CHOmine] 'https://chomine.boku.ac.at/chomine'\n",
       "\\item[ChickpeaMine] 'https://mines.legumeinfo.org/chickpeamine'\n",
       "\\item[CowpeaMine] 'https://mines.legumeinfo.org/cowpeamine'\n",
       "\\item[FlyMine] 'http://www.flymine.org/flymine'\n",
       "\\item[GrapeMine] 'http://urgi.versailles.inra.fr/GrapeMine'\n",
       "\\item[HumanMine] 'http://www.humanmine.org/humanmine'\n",
       "\\item[HymenopteraMine] 'http://hymenopteragenome.org/hymenopteramine'\n",
       "\\item[IndigoMine] 'http://www.cbrc.kaust.edu.sa/indigo'\n",
       "\\item[LegumeMine] 'https://mines.legumeinfo.org/legumemine'\n",
       "\\item[MaizeMine] 'http://maizemine.rnet.missouri.edu:8080/maizemine'\n",
       "\\item[MedicMine] 'http://medicmine.jcvi.org/medicmine'\n",
       "\\item[MitoMiner] 'http://mitominer.mrc-mbu.cam.ac.uk/release-4.0'\n",
       "\\item[ModMine] 'http://intermine.modencode.org/release-33'\n",
       "\\item[MouseMine] 'http://www.mousemine.org/mousemine'\n",
       "\\item[OakMine] 'https://urgi.versailles.inra.fr/OakMine\\_PM1N'\n",
       "\\item[PeanutMine] 'https://mines.legumeinfo.org/peanutmine'\n",
       "\\item[PhytoMine] 'https://phytozome.jgi.doe.gov/phytomine/'\n",
       "\\item[PlanMine] 'http://planmine.mpi-cbg.de/planmine'\n",
       "\\item[RatMine] 'http://ratmine.mcw.edu/ratmine'\n",
       "\\item[RepetDB] 'http://urgi.versailles.inra.fr/repetdb'\n",
       "\\item[SoyMine] 'https://mines.legumeinfo.org/soymine'\n",
       "\\item[TargetMine] 'https://targetmine.mizuguchilab.org/targetmine'\n",
       "\\item[ThaleMine] 'https://apps.araport.org/thalemine'\n",
       "\\item[WheatMine] 'https://urgi.versailles.inra.fr/WheatMine'\n",
       "\\item[WormMine] 'http://intermine.wormbase.org/tools/wormmine/'\n",
       "\\item[XenMine] 'http://www.xenmine.org/xenmine'\n",
       "\\item[YeastMine] 'https://yeastmine.yeastgenome.org/yeastmine'\n",
       "\\item[ZebrafishMine] 'http://zebrafishmine.org'\n",
       "\\end{description*}\n"
      ],
      "text/markdown": [
       "BMAP\n",
       ":   'https://bmap.jgi.doe.gov/bmapmine/'BeanMine\n",
       ":   'https://mines.legumeinfo.org/beanmine'BovineMine\n",
       ":   'http://genomes.missouri.edu/bovinemine'CHOmine\n",
       ":   'https://chomine.boku.ac.at/chomine'ChickpeaMine\n",
       ":   'https://mines.legumeinfo.org/chickpeamine'CowpeaMine\n",
       ":   'https://mines.legumeinfo.org/cowpeamine'FlyMine\n",
       ":   'http://www.flymine.org/flymine'GrapeMine\n",
       ":   'http://urgi.versailles.inra.fr/GrapeMine'HumanMine\n",
       ":   'http://www.humanmine.org/humanmine'HymenopteraMine\n",
       ":   'http://hymenopteragenome.org/hymenopteramine'IndigoMine\n",
       ":   'http://www.cbrc.kaust.edu.sa/indigo'LegumeMine\n",
       ":   'https://mines.legumeinfo.org/legumemine'MaizeMine\n",
       ":   'http://maizemine.rnet.missouri.edu:8080/maizemine'MedicMine\n",
       ":   'http://medicmine.jcvi.org/medicmine'MitoMiner\n",
       ":   'http://mitominer.mrc-mbu.cam.ac.uk/release-4.0'ModMine\n",
       ":   'http://intermine.modencode.org/release-33'MouseMine\n",
       ":   'http://www.mousemine.org/mousemine'OakMine\n",
       ":   'https://urgi.versailles.inra.fr/OakMine_PM1N'PeanutMine\n",
       ":   'https://mines.legumeinfo.org/peanutmine'PhytoMine\n",
       ":   'https://phytozome.jgi.doe.gov/phytomine/'PlanMine\n",
       ":   'http://planmine.mpi-cbg.de/planmine'RatMine\n",
       ":   'http://ratmine.mcw.edu/ratmine'RepetDB\n",
       ":   'http://urgi.versailles.inra.fr/repetdb'SoyMine\n",
       ":   'https://mines.legumeinfo.org/soymine'TargetMine\n",
       ":   'https://targetmine.mizuguchilab.org/targetmine'ThaleMine\n",
       ":   'https://apps.araport.org/thalemine'WheatMine\n",
       ":   'https://urgi.versailles.inra.fr/WheatMine'WormMine\n",
       ":   'http://intermine.wormbase.org/tools/wormmine/'XenMine\n",
       ":   'http://www.xenmine.org/xenmine'YeastMine\n",
       ":   'https://yeastmine.yeastgenome.org/yeastmine'ZebrafishMine\n",
       ":   'http://zebrafishmine.org'\n",
       "\n"
      ],
      "text/plain": [
       "                                               BMAP \n",
       "               \"https://bmap.jgi.doe.gov/bmapmine/\" \n",
       "                                           BeanMine \n",
       "            \"https://mines.legumeinfo.org/beanmine\" \n",
       "                                         BovineMine \n",
       "           \"http://genomes.missouri.edu/bovinemine\" \n",
       "                                            CHOmine \n",
       "               \"https://chomine.boku.ac.at/chomine\" \n",
       "                                       ChickpeaMine \n",
       "        \"https://mines.legumeinfo.org/chickpeamine\" \n",
       "                                         CowpeaMine \n",
       "          \"https://mines.legumeinfo.org/cowpeamine\" \n",
       "                                            FlyMine \n",
       "                   \"http://www.flymine.org/flymine\" \n",
       "                                          GrapeMine \n",
       "         \"http://urgi.versailles.inra.fr/GrapeMine\" \n",
       "                                          HumanMine \n",
       "               \"http://www.humanmine.org/humanmine\" \n",
       "                                    HymenopteraMine \n",
       "     \"http://hymenopteragenome.org/hymenopteramine\" \n",
       "                                         IndigoMine \n",
       "              \"http://www.cbrc.kaust.edu.sa/indigo\" \n",
       "                                         LegumeMine \n",
       "          \"https://mines.legumeinfo.org/legumemine\" \n",
       "                                          MaizeMine \n",
       "\"http://maizemine.rnet.missouri.edu:8080/maizemine\" \n",
       "                                          MedicMine \n",
       "              \"http://medicmine.jcvi.org/medicmine\" \n",
       "                                          MitoMiner \n",
       "   \"http://mitominer.mrc-mbu.cam.ac.uk/release-4.0\" \n",
       "                                            ModMine \n",
       "        \"http://intermine.modencode.org/release-33\" \n",
       "                                          MouseMine \n",
       "               \"http://www.mousemine.org/mousemine\" \n",
       "                                            OakMine \n",
       "     \"https://urgi.versailles.inra.fr/OakMine_PM1N\" \n",
       "                                         PeanutMine \n",
       "          \"https://mines.legumeinfo.org/peanutmine\" \n",
       "                                          PhytoMine \n",
       "         \"https://phytozome.jgi.doe.gov/phytomine/\" \n",
       "                                           PlanMine \n",
       "              \"http://planmine.mpi-cbg.de/planmine\" \n",
       "                                            RatMine \n",
       "                   \"http://ratmine.mcw.edu/ratmine\" \n",
       "                                            RepetDB \n",
       "           \"http://urgi.versailles.inra.fr/repetdb\" \n",
       "                                            SoyMine \n",
       "             \"https://mines.legumeinfo.org/soymine\" \n",
       "                                         TargetMine \n",
       "   \"https://targetmine.mizuguchilab.org/targetmine\" \n",
       "                                          ThaleMine \n",
       "               \"https://apps.araport.org/thalemine\" \n",
       "                                          WheatMine \n",
       "        \"https://urgi.versailles.inra.fr/WheatMine\" \n",
       "                                           WormMine \n",
       "    \"http://intermine.wormbase.org/tools/wormmine/\" \n",
       "                                            XenMine \n",
       "                   \"http://www.xenmine.org/xenmine\" \n",
       "                                          YeastMine \n",
       "      \"https://yeastmine.yeastgenome.org/yeastmine\" \n",
       "                                      ZebrafishMine \n",
       "                         \"http://zebrafishmine.org\" "
      ]
     },
     "metadata": {},
     "output_type": "display_data"
    }
   ],
   "source": [
    "listMines()"
   ]
  },
  {
   "cell_type": "markdown",
   "metadata": {},
   "source": [
    "Okay, let's select HumanMine from the list:"
   ]
  },
  {
   "cell_type": "code",
   "execution_count": 8,
   "metadata": {},
   "outputs": [
    {
     "data": {
      "text/html": [
       "<strong>HumanMine:</strong> 'http://www.humanmine.org/humanmine'"
      ],
      "text/latex": [
       "\\textbf{HumanMine:} 'http://www.humanmine.org/humanmine'"
      ],
      "text/markdown": [
       "**HumanMine:** 'http://www.humanmine.org/humanmine'"
      ],
      "text/plain": [
       "                           HumanMine \n",
       "\"http://www.humanmine.org/humanmine\" "
      ]
     },
     "metadata": {},
     "output_type": "display_data"
    }
   ],
   "source": [
    "humanMine <- listMines()[\"HumanMine\"] #select humanmine\n",
    "humanMine #print out the value to see what's inside"
   ]
  },
  {
   "cell_type": "markdown",
   "metadata": {},
   "source": [
    "Okay, now let's tell InterMineR that we want to use HumanMine for our queries.\n",
    "\n",
    "**Important:** you'll need an API token for this part so you can access your HumanMine account. You can get your token by logging into [HumanMine](http://www.humanmine.org/) and going to the account details tab within MyMine. Cut and paste your token into the code below."
   ]
  },
  {
   "cell_type": "code",
   "execution_count": null,
   "metadata": {},
   "outputs": [],
   "source": [
    "im <- initInterMine(mine=humanMine, \"YOUR TOKEN HERE\")"
   ]
  }
 ],
 "metadata": {
  "kernelspec": {
   "display_name": "R",
   "language": "R",
   "name": "ir"
  },
  "language_info": {
   "codemirror_mode": "r",
   "file_extension": ".r",
   "mimetype": "text/x-r-source",
   "name": "R",
   "pygments_lexer": "r",
   "version": "3.6.0"
  }
 },
 "nbformat": 4,
 "nbformat_minor": 2
}
