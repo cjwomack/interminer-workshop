{
 "cells": [
  {
   "cell_type": "markdown",
   "metadata": {},
   "source": [
    "# Enrichment analysis and visualisations\n",
    "\n",
    "This is loosely adapted from one of the InterMineR vignettes\n",
    "https://bioconductor.org/packages/release/bioc/vignettes/InterMineR/inst/doc/Enrichment_Analysis_and_Visualization.html\n",
    "\n",
    "## Background\n",
    "\n",
    "The InterMine gene set enrichment tool looks for annotations to a set of genes that occur more than would be expected by chance, given a background population of annotations. The hypergeometric distribution is used to calculate a P-value for each annotation and a choice of correction methods for multiple testing (Bonferonni, Holm-Bonferonni and Benjamini Hochberg) are available (Smith et al. 2012; Kalderimis et al. 2014).\n",
    "\n",
    "InterMine provides Gene Ontology enrichment statistics as well as enrichment statistics for other annotation types including protein domains, pathways, human diseases, mammalian phenotypes and publications. The default background population is all genes in the genome with the specified annotation type. However, the background population can be changed by specifying another list. More information can be found in the [online documentation](http://intermine.readthedocs.io/en/latest/embedding/list-widgets/enrichment-widgets/).\n",
    "\n",
    "## Goal for this exercise\n",
    "\n",
    "1. Use InterMine's enrichment widgets on the HumanMine public list [PL_GenomicsEngland_GenePanel%:Genetic_Epilepsy_Syndromes](http://www.humanmine.org/humanmine/bagDetails.do?scope=all&bagName=PL_GenomicsEngland_GenePanel%3AGenetic_Epilepsy_Syndromes) to see if the list is enriched for any GO Terms.\n",
    "2. Visualise the results using the GeneAnswers class. "
   ]
  },
  {
   "cell_type": "markdown",
   "metadata": {},
   "source": [
    "### Setup\n",
    "Let's start by initialising InterMineR and choosing which InterMine we'll be running queries against:"
   ]
  },
  {
   "cell_type": "code",
   "execution_count": 1,
   "metadata": {},
   "outputs": [],
   "source": [
    "# Begin by activating the InterMineR library\n",
    "# Syntax: library(LIBRARY_NAME_HERE)\n"
   ]
  },
  {
   "cell_type": "markdown",
   "metadata": {},
   "source": [
    "We want to query human data - so let's look and see what InterMines are available, using the `listMines()` function: "
   ]
  },
  {
   "cell_type": "code",
   "execution_count": 2,
   "metadata": {},
   "outputs": [
    {
     "data": {
      "text/html": [
       "<dl class=dl-horizontal>\n",
       "\t<dt>BMAP</dt>\n",
       "\t\t<dd>'https://bmap.jgi.doe.gov/bmapmine/'</dd>\n",
       "\t<dt>BeanMine</dt>\n",
       "\t\t<dd>'https://mines.legumeinfo.org/beanmine'</dd>\n",
       "\t<dt>BovineMine</dt>\n",
       "\t\t<dd>'http://genomes.missouri.edu/bovinemine'</dd>\n",
       "\t<dt>CHOmine</dt>\n",
       "\t\t<dd>'https://chomine.boku.ac.at/chomine'</dd>\n",
       "\t<dt>ChickpeaMine</dt>\n",
       "\t\t<dd>'https://mines.legumeinfo.org/chickpeamine'</dd>\n",
       "\t<dt>CowpeaMine</dt>\n",
       "\t\t<dd>'https://mines.legumeinfo.org/cowpeamine'</dd>\n",
       "\t<dt>FlyMine</dt>\n",
       "\t\t<dd>'http://www.flymine.org/flymine'</dd>\n",
       "\t<dt>GrapeMine</dt>\n",
       "\t\t<dd>'http://urgi.versailles.inra.fr/GrapeMine'</dd>\n",
       "\t<dt>HumanMine</dt>\n",
       "\t\t<dd>'http://www.humanmine.org/humanmine'</dd>\n",
       "\t<dt>HymenopteraMine</dt>\n",
       "\t\t<dd>'http://hymenopteragenome.org/hymenopteramine'</dd>\n",
       "\t<dt>IndigoMine</dt>\n",
       "\t\t<dd>'http://www.cbrc.kaust.edu.sa/indigo'</dd>\n",
       "\t<dt>LegumeMine</dt>\n",
       "\t\t<dd>'https://mines.legumeinfo.org/legumemine'</dd>\n",
       "\t<dt>MaizeMine</dt>\n",
       "\t\t<dd>'http://maizemine.rnet.missouri.edu:8080/maizemine'</dd>\n",
       "\t<dt>MedicMine</dt>\n",
       "\t\t<dd>'http://medicmine.jcvi.org/medicmine'</dd>\n",
       "\t<dt>MitoMiner</dt>\n",
       "\t\t<dd>'http://mitominer.mrc-mbu.cam.ac.uk/release-4.0'</dd>\n",
       "\t<dt>ModMine</dt>\n",
       "\t\t<dd>'http://intermine.modencode.org/release-33'</dd>\n",
       "\t<dt>MouseMine</dt>\n",
       "\t\t<dd>'http://www.mousemine.org/mousemine'</dd>\n",
       "\t<dt>OakMine</dt>\n",
       "\t\t<dd>'https://urgi.versailles.inra.fr/OakMine_PM1N'</dd>\n",
       "\t<dt>PeanutMine</dt>\n",
       "\t\t<dd>'https://mines.legumeinfo.org/peanutmine'</dd>\n",
       "\t<dt>PhytoMine</dt>\n",
       "\t\t<dd>'https://phytozome.jgi.doe.gov/phytomine/'</dd>\n",
       "\t<dt>PlanMine</dt>\n",
       "\t\t<dd>'http://planmine.mpi-cbg.de/planmine'</dd>\n",
       "\t<dt>RatMine</dt>\n",
       "\t\t<dd>'http://ratmine.mcw.edu/ratmine'</dd>\n",
       "\t<dt>RepetDB</dt>\n",
       "\t\t<dd>'http://urgi.versailles.inra.fr/repetdb'</dd>\n",
       "\t<dt>SoyMine</dt>\n",
       "\t\t<dd>'https://mines.legumeinfo.org/soymine'</dd>\n",
       "\t<dt>TargetMine</dt>\n",
       "\t\t<dd>'https://targetmine.mizuguchilab.org/targetmine'</dd>\n",
       "\t<dt>ThaleMine</dt>\n",
       "\t\t<dd>'https://apps.araport.org/thalemine'</dd>\n",
       "\t<dt>WheatMine</dt>\n",
       "\t\t<dd>'https://urgi.versailles.inra.fr/WheatMine'</dd>\n",
       "\t<dt>WormMine</dt>\n",
       "\t\t<dd>'http://intermine.wormbase.org/tools/wormmine/'</dd>\n",
       "\t<dt>XenMine</dt>\n",
       "\t\t<dd>'http://www.xenmine.org/xenmine'</dd>\n",
       "\t<dt>YeastMine</dt>\n",
       "\t\t<dd>'https://yeastmine.yeastgenome.org/yeastmine'</dd>\n",
       "\t<dt>ZebrafishMine</dt>\n",
       "\t\t<dd>'http://zebrafishmine.org'</dd>\n",
       "</dl>\n"
      ],
      "text/latex": [
       "\\begin{description*}\n",
       "\\item[BMAP] 'https://bmap.jgi.doe.gov/bmapmine/'\n",
       "\\item[BeanMine] 'https://mines.legumeinfo.org/beanmine'\n",
       "\\item[BovineMine] 'http://genomes.missouri.edu/bovinemine'\n",
       "\\item[CHOmine] 'https://chomine.boku.ac.at/chomine'\n",
       "\\item[ChickpeaMine] 'https://mines.legumeinfo.org/chickpeamine'\n",
       "\\item[CowpeaMine] 'https://mines.legumeinfo.org/cowpeamine'\n",
       "\\item[FlyMine] 'http://www.flymine.org/flymine'\n",
       "\\item[GrapeMine] 'http://urgi.versailles.inra.fr/GrapeMine'\n",
       "\\item[HumanMine] 'http://www.humanmine.org/humanmine'\n",
       "\\item[HymenopteraMine] 'http://hymenopteragenome.org/hymenopteramine'\n",
       "\\item[IndigoMine] 'http://www.cbrc.kaust.edu.sa/indigo'\n",
       "\\item[LegumeMine] 'https://mines.legumeinfo.org/legumemine'\n",
       "\\item[MaizeMine] 'http://maizemine.rnet.missouri.edu:8080/maizemine'\n",
       "\\item[MedicMine] 'http://medicmine.jcvi.org/medicmine'\n",
       "\\item[MitoMiner] 'http://mitominer.mrc-mbu.cam.ac.uk/release-4.0'\n",
       "\\item[ModMine] 'http://intermine.modencode.org/release-33'\n",
       "\\item[MouseMine] 'http://www.mousemine.org/mousemine'\n",
       "\\item[OakMine] 'https://urgi.versailles.inra.fr/OakMine\\_PM1N'\n",
       "\\item[PeanutMine] 'https://mines.legumeinfo.org/peanutmine'\n",
       "\\item[PhytoMine] 'https://phytozome.jgi.doe.gov/phytomine/'\n",
       "\\item[PlanMine] 'http://planmine.mpi-cbg.de/planmine'\n",
       "\\item[RatMine] 'http://ratmine.mcw.edu/ratmine'\n",
       "\\item[RepetDB] 'http://urgi.versailles.inra.fr/repetdb'\n",
       "\\item[SoyMine] 'https://mines.legumeinfo.org/soymine'\n",
       "\\item[TargetMine] 'https://targetmine.mizuguchilab.org/targetmine'\n",
       "\\item[ThaleMine] 'https://apps.araport.org/thalemine'\n",
       "\\item[WheatMine] 'https://urgi.versailles.inra.fr/WheatMine'\n",
       "\\item[WormMine] 'http://intermine.wormbase.org/tools/wormmine/'\n",
       "\\item[XenMine] 'http://www.xenmine.org/xenmine'\n",
       "\\item[YeastMine] 'https://yeastmine.yeastgenome.org/yeastmine'\n",
       "\\item[ZebrafishMine] 'http://zebrafishmine.org'\n",
       "\\end{description*}\n"
      ],
      "text/markdown": [
       "BMAP\n",
       ":   'https://bmap.jgi.doe.gov/bmapmine/'BeanMine\n",
       ":   'https://mines.legumeinfo.org/beanmine'BovineMine\n",
       ":   'http://genomes.missouri.edu/bovinemine'CHOmine\n",
       ":   'https://chomine.boku.ac.at/chomine'ChickpeaMine\n",
       ":   'https://mines.legumeinfo.org/chickpeamine'CowpeaMine\n",
       ":   'https://mines.legumeinfo.org/cowpeamine'FlyMine\n",
       ":   'http://www.flymine.org/flymine'GrapeMine\n",
       ":   'http://urgi.versailles.inra.fr/GrapeMine'HumanMine\n",
       ":   'http://www.humanmine.org/humanmine'HymenopteraMine\n",
       ":   'http://hymenopteragenome.org/hymenopteramine'IndigoMine\n",
       ":   'http://www.cbrc.kaust.edu.sa/indigo'LegumeMine\n",
       ":   'https://mines.legumeinfo.org/legumemine'MaizeMine\n",
       ":   'http://maizemine.rnet.missouri.edu:8080/maizemine'MedicMine\n",
       ":   'http://medicmine.jcvi.org/medicmine'MitoMiner\n",
       ":   'http://mitominer.mrc-mbu.cam.ac.uk/release-4.0'ModMine\n",
       ":   'http://intermine.modencode.org/release-33'MouseMine\n",
       ":   'http://www.mousemine.org/mousemine'OakMine\n",
       ":   'https://urgi.versailles.inra.fr/OakMine_PM1N'PeanutMine\n",
       ":   'https://mines.legumeinfo.org/peanutmine'PhytoMine\n",
       ":   'https://phytozome.jgi.doe.gov/phytomine/'PlanMine\n",
       ":   'http://planmine.mpi-cbg.de/planmine'RatMine\n",
       ":   'http://ratmine.mcw.edu/ratmine'RepetDB\n",
       ":   'http://urgi.versailles.inra.fr/repetdb'SoyMine\n",
       ":   'https://mines.legumeinfo.org/soymine'TargetMine\n",
       ":   'https://targetmine.mizuguchilab.org/targetmine'ThaleMine\n",
       ":   'https://apps.araport.org/thalemine'WheatMine\n",
       ":   'https://urgi.versailles.inra.fr/WheatMine'WormMine\n",
       ":   'http://intermine.wormbase.org/tools/wormmine/'XenMine\n",
       ":   'http://www.xenmine.org/xenmine'YeastMine\n",
       ":   'https://yeastmine.yeastgenome.org/yeastmine'ZebrafishMine\n",
       ":   'http://zebrafishmine.org'\n",
       "\n"
      ],
      "text/plain": [
       "                                               BMAP \n",
       "               \"https://bmap.jgi.doe.gov/bmapmine/\" \n",
       "                                           BeanMine \n",
       "            \"https://mines.legumeinfo.org/beanmine\" \n",
       "                                         BovineMine \n",
       "           \"http://genomes.missouri.edu/bovinemine\" \n",
       "                                            CHOmine \n",
       "               \"https://chomine.boku.ac.at/chomine\" \n",
       "                                       ChickpeaMine \n",
       "        \"https://mines.legumeinfo.org/chickpeamine\" \n",
       "                                         CowpeaMine \n",
       "          \"https://mines.legumeinfo.org/cowpeamine\" \n",
       "                                            FlyMine \n",
       "                   \"http://www.flymine.org/flymine\" \n",
       "                                          GrapeMine \n",
       "         \"http://urgi.versailles.inra.fr/GrapeMine\" \n",
       "                                          HumanMine \n",
       "               \"http://www.humanmine.org/humanmine\" \n",
       "                                    HymenopteraMine \n",
       "     \"http://hymenopteragenome.org/hymenopteramine\" \n",
       "                                         IndigoMine \n",
       "              \"http://www.cbrc.kaust.edu.sa/indigo\" \n",
       "                                         LegumeMine \n",
       "          \"https://mines.legumeinfo.org/legumemine\" \n",
       "                                          MaizeMine \n",
       "\"http://maizemine.rnet.missouri.edu:8080/maizemine\" \n",
       "                                          MedicMine \n",
       "              \"http://medicmine.jcvi.org/medicmine\" \n",
       "                                          MitoMiner \n",
       "   \"http://mitominer.mrc-mbu.cam.ac.uk/release-4.0\" \n",
       "                                            ModMine \n",
       "        \"http://intermine.modencode.org/release-33\" \n",
       "                                          MouseMine \n",
       "               \"http://www.mousemine.org/mousemine\" \n",
       "                                            OakMine \n",
       "     \"https://urgi.versailles.inra.fr/OakMine_PM1N\" \n",
       "                                         PeanutMine \n",
       "          \"https://mines.legumeinfo.org/peanutmine\" \n",
       "                                          PhytoMine \n",
       "         \"https://phytozome.jgi.doe.gov/phytomine/\" \n",
       "                                           PlanMine \n",
       "              \"http://planmine.mpi-cbg.de/planmine\" \n",
       "                                            RatMine \n",
       "                   \"http://ratmine.mcw.edu/ratmine\" \n",
       "                                            RepetDB \n",
       "           \"http://urgi.versailles.inra.fr/repetdb\" \n",
       "                                            SoyMine \n",
       "             \"https://mines.legumeinfo.org/soymine\" \n",
       "                                         TargetMine \n",
       "   \"https://targetmine.mizuguchilab.org/targetmine\" \n",
       "                                          ThaleMine \n",
       "               \"https://apps.araport.org/thalemine\" \n",
       "                                          WheatMine \n",
       "        \"https://urgi.versailles.inra.fr/WheatMine\" \n",
       "                                           WormMine \n",
       "    \"http://intermine.wormbase.org/tools/wormmine/\" \n",
       "                                            XenMine \n",
       "                   \"http://www.xenmine.org/xenmine\" \n",
       "                                          YeastMine \n",
       "      \"https://yeastmine.yeastgenome.org/yeastmine\" \n",
       "                                      ZebrafishMine \n",
       "                         \"http://zebrafishmine.org\" "
      ]
     },
     "metadata": {},
     "output_type": "display_data"
    }
   ],
   "source": []
  },
  {
   "cell_type": "markdown",
   "metadata": {},
   "source": [
    "Okay, let's select HumanMine from this list, and store it in a variable called `humanMine`:"
   ]
  },
  {
   "cell_type": "code",
   "execution_count": 3,
   "metadata": {},
   "outputs": [
    {
     "data": {
      "text/html": [
       "<strong>HumanMine:</strong> 'http://www.humanmine.org/humanmine'"
      ],
      "text/latex": [
       "\\textbf{HumanMine:} 'http://www.humanmine.org/humanmine'"
      ],
      "text/markdown": [
       "**HumanMine:** 'http://www.humanmine.org/humanmine'"
      ],
      "text/plain": [
       "                           HumanMine \n",
       "\"http://www.humanmine.org/humanmine\" "
      ]
     },
     "metadata": {},
     "output_type": "display_data"
    }
   ],
   "source": [
    "# Syntax: listMines()[\"MINE _NAME_HERE\"] \n",
    "\n",
    "# Print the value to make sure it's what we expect\n"
   ]
  },
  {
   "cell_type": "markdown",
   "metadata": {},
   "source": [
    "And now we need to tell InterMineR to query HumanMine specifically, using the function `initInterMine()`. Let's store this in a variable called `im`."
   ]
  },
  {
   "cell_type": "code",
   "execution_count": 1,
   "metadata": {},
   "outputs": [],
   "source": [
    "# Syntax: initInterMine(mine=MINE_URL_HERE) or, if you're accessing a personal list, you'll also need your API token: \n",
    "#         initInterMine(mine=MINE_URL_HERE, \"YOUR_TOKEN_HERE\")\n",
    "\n"
   ]
  },
  {
   "cell_type": "markdown",
   "metadata": {},
   "source": [
    "## Getting started with Enrichment\n",
    "\n",
    "Performing enrichment analysis with InterMineR is preceded by two steps:\n",
    "\n",
    "1. Get the enrichment widget name which indicates the annotation types that you want to investigate for enrichment (e.g. Gene Ontology Terms, protein domains, KEGG and Reactome Pathways, human diseases, mammalian phenotypes and publications).\n",
    "2. Retrieve the list of bioentities of interest (Genes, Proteins, SNPs, etc.) for which the analysis will be performed."
   ]
  },
  {
   "cell_type": "code",
   "execution_count": 5,
   "metadata": {},
   "outputs": [
    {
     "data": {
      "text/html": [
       "<table>\n",
       "<caption>A matrix: 10 × 12 of type chr</caption>\n",
       "<thead>\n",
       "\t<tr><th scope=col>startClassDisplay</th><th scope=col>enrichIdentifier</th><th scope=col>name</th><th scope=col>description</th><th scope=col>enrich</th><th scope=col>startClass</th><th scope=col>title</th><th scope=col>targets</th><th scope=col>widgetType</th><th scope=col>chartType</th><th scope=col>filters</th><th scope=col>labels</th></tr>\n",
       "</thead>\n",
       "<tbody>\n",
       "\t<tr><td>primaryIdentifier</td><td>GWASResults.study.publication.pubMedId                       </td><td>snp_gwas_study_enrichment       </td><td>GWAS studies enriched for SNPs in this list.                                                                                                                                                                                  </td><td>GWASResults.study.name                          </td><td>SNP    </td><td>GWAS study Enrichment for SNPs </td><td>SNP    </td><td>enrichment</td><td>NA         </td><td>NA                                                      </td><td>NA                </td></tr>\n",
       "\t<tr><td><span style=white-space:pre-wrap>NA               </span></td><td><span style=white-space:pre-wrap>NA                                                           </span></td><td>chromosome_distribution_for_snp </td><td><span style=white-space:pre-wrap>Actual: number of items in this list found on each chromosome.  Expected: given the total number of items on the chromosome and the number of items in this list, the number of items expected to be found on each chromosome.</span></td><td><span style=white-space:pre-wrap>NA                                              </span></td><td><span style=white-space:pre-wrap>SNP    </span></td><td><span style=white-space:pre-wrap>Chromosome Distribution        </span></td><td><span style=white-space:pre-wrap>SNP    </span></td><td><span style=white-space:pre-wrap>chart     </span></td><td>ColumnChart</td><td><span style=white-space:pre-wrap>organism.name=[list]                                    </span></td><td>Chromosome &amp; Count</td></tr>\n",
       "\t<tr><td>primaryIdentifier</td><td>goAnnotation.ontologyTerm.parents.identifier                 </td><td>go_enrichment_for_gene          </td><td>GO terms enriched for items in this list.                                                                                                                                                                                     </td><td>goAnnotation.ontologyTerm.parents.name          </td><td>Gene   </td><td>Gene Ontology Enrichment       </td><td>Gene   </td><td>enrichment</td><td>NA         </td><td>biological_process,cellular_component,molecular_function</td><td>NA                </td></tr>\n",
       "\t<tr><td>primaryIdentifier</td><td>publications.pubMedId                                        </td><td>publication_enrichment          </td><td>Publications enriched for genes in this list.                                                                                                                                                                                 </td><td>publications.title                              </td><td>Gene   </td><td>Publication Enrichment         </td><td>Gene   </td><td>enrichment</td><td>NA         </td><td>NA                                                      </td><td>NA                </td></tr>\n",
       "\t<tr><td><span style=white-space:pre-wrap>NA               </span></td><td><span style=white-space:pre-wrap>NA                                                           </span></td><td>chromosome_distribution_for_gene</td><td><span style=white-space:pre-wrap>Actual: number of items in this list found on each chromosome.  Expected: given the total number of items on the chromosome and the number of items in this list, the number of items expected to be found on each chromosome.</span></td><td><span style=white-space:pre-wrap>NA                                              </span></td><td><span style=white-space:pre-wrap>Gene   </span></td><td><span style=white-space:pre-wrap>Chromosome Distribution        </span></td><td><span style=white-space:pre-wrap>Gene   </span></td><td><span style=white-space:pre-wrap>chart     </span></td><td>ColumnChart</td><td><span style=white-space:pre-wrap>organism.name=[list]                                    </span></td><td>Chromosome &amp; Count</td></tr>\n",
       "\t<tr><td>primaryIdentifier</td><td>pathways.identifier                                          </td><td>pathway_enrichment              </td><td>Pathways enriched for genes in this list - data from KEGG and Reactome                                                                                                                                                        </td><td>pathways.name                                   </td><td>Gene   </td><td>Pathway Enrichment             </td><td>Gene   </td><td>enrichment</td><td>NA         </td><td>All,KEGG pathways data set,Reactome data set            </td><td>NA                </td></tr>\n",
       "\t<tr><td>primaryIdentifier</td><td>GWASResults.study.publication.pubMedId                       </td><td>snp_publication_enrichment      </td><td>Publications enriched for SNPs in this list.                                                                                                                                                                                  </td><td>GWASResults.study.publication.title             </td><td>SNP    </td><td>Publication Enrichment for SNPs</td><td>SNP    </td><td>enrichment</td><td>NA         </td><td>NA                                                      </td><td>NA                </td></tr>\n",
       "\t<tr><td>primaryIdentifier</td><td>proteins.proteinDomainRegions.proteinDomain.primaryIdentifier</td><td>prot_dom_enrichment_for_gene    </td><td>Protein Domains enriched for items in this list.                                                                                                                                                                              </td><td>proteins.proteinDomainRegions.proteinDomain.name</td><td>Gene   </td><td>Protein Domain Enrichment      </td><td>Gene   </td><td>enrichment</td><td>NA         </td><td>NA                                                      </td><td>NA                </td></tr>\n",
       "\t<tr><td>primaryIdentifier</td><td>proteinDomainRegions.proteinDomain.primaryIdentifier         </td><td>prot_dom_enrichment_for_protein </td><td>Protein Domains enriched for items in this list.                                                                                                                                                                              </td><td>proteinDomainRegions.proteinDomain.name         </td><td>Protein</td><td>Protein Domain Enrichment      </td><td>Protein</td><td>enrichment</td><td>NA         </td><td>NA                                                      </td><td>NA                </td></tr>\n",
       "\t<tr><td>NA               </td><td>NA                                                           </td><td>interactions                    </td><td>Genes (from the list or not) that interact with genes in this list.  Counts may include the same interaction more than once if observed in multiple experiments.                                                              </td><td>NA                                              </td><td>NA     </td><td>Interactions                   </td><td>Gene   </td><td>table     </td><td>NA         </td><td>NA                                                      </td><td>NA                </td></tr>\n",
       "</tbody>\n",
       "</table>\n"
      ],
      "text/latex": [
       "A matrix: 10 × 12 of type chr\n",
       "\\begin{tabular}{llllllllllll}\n",
       " startClassDisplay & enrichIdentifier & name & description & enrich & startClass & title & targets & widgetType & chartType & filters & labels\\\\\n",
       "\\hline\n",
       "\t primaryIdentifier & GWASResults.study.publication.pubMedId                        & snp\\_gwas\\_study\\_enrichment        & GWAS studies enriched for SNPs in this list.                                                                                                                                                                                   & GWASResults.study.name                           & SNP     & GWAS study Enrichment for SNPs  & SNP     & enrichment & NA          & NA                                                       & NA                \\\\\n",
       "\t NA                & NA                                                            & chromosome\\_distribution\\_for\\_snp  & Actual: number of items in this list found on each chromosome.  Expected: given the total number of items on the chromosome and the number of items in this list, the number of items expected to be found on each chromosome. & NA                                               & SNP     & Chromosome Distribution         & SNP     & chart      & ColumnChart & organism.name={[}list{]}                                     & Chromosome \\& Count\\\\\n",
       "\t primaryIdentifier & goAnnotation.ontologyTerm.parents.identifier                  & go\\_enrichment\\_for\\_gene           & GO terms enriched for items in this list.                                                                                                                                                                                      & goAnnotation.ontologyTerm.parents.name           & Gene    & Gene Ontology Enrichment        & Gene    & enrichment & NA          & biological\\_process,cellular\\_component,molecular\\_function & NA                \\\\\n",
       "\t primaryIdentifier & publications.pubMedId                                         & publication\\_enrichment           & Publications enriched for genes in this list.                                                                                                                                                                                  & publications.title                               & Gene    & Publication Enrichment          & Gene    & enrichment & NA          & NA                                                       & NA                \\\\\n",
       "\t NA                & NA                                                            & chromosome\\_distribution\\_for\\_gene & Actual: number of items in this list found on each chromosome.  Expected: given the total number of items on the chromosome and the number of items in this list, the number of items expected to be found on each chromosome. & NA                                               & Gene    & Chromosome Distribution         & Gene    & chart      & ColumnChart & organism.name={[}list{]}                                     & Chromosome \\& Count\\\\\n",
       "\t primaryIdentifier & pathways.identifier                                           & pathway\\_enrichment               & Pathways enriched for genes in this list - data from KEGG and Reactome                                                                                                                                                         & pathways.name                                    & Gene    & Pathway Enrichment              & Gene    & enrichment & NA          & All,KEGG pathways data set,Reactome data set             & NA                \\\\\n",
       "\t primaryIdentifier & GWASResults.study.publication.pubMedId                        & snp\\_publication\\_enrichment       & Publications enriched for SNPs in this list.                                                                                                                                                                                   & GWASResults.study.publication.title              & SNP     & Publication Enrichment for SNPs & SNP     & enrichment & NA          & NA                                                       & NA                \\\\\n",
       "\t primaryIdentifier & proteins.proteinDomainRegions.proteinDomain.primaryIdentifier & prot\\_dom\\_enrichment\\_for\\_gene     & Protein Domains enriched for items in this list.                                                                                                                                                                               & proteins.proteinDomainRegions.proteinDomain.name & Gene    & Protein Domain Enrichment       & Gene    & enrichment & NA          & NA                                                       & NA                \\\\\n",
       "\t primaryIdentifier & proteinDomainRegions.proteinDomain.primaryIdentifier          & prot\\_dom\\_enrichment\\_for\\_protein  & Protein Domains enriched for items in this list.                                                                                                                                                                               & proteinDomainRegions.proteinDomain.name          & Protein & Protein Domain Enrichment       & Protein & enrichment & NA          & NA                                                       & NA                \\\\\n",
       "\t NA                & NA                                                            & interactions                     & Genes (from the list or not) that interact with genes in this list.  Counts may include the same interaction more than once if observed in multiple experiments.                                                               & NA                                               & NA      & Interactions                    & Gene    & table      & NA          & NA                                                       & NA                \\\\\n",
       "\\end{tabular}\n"
      ],
      "text/markdown": [
       "\n",
       "A matrix: 10 × 12 of type chr\n",
       "\n",
       "| startClassDisplay | enrichIdentifier | name | description | enrich | startClass | title | targets | widgetType | chartType | filters | labels |\n",
       "|---|---|---|---|---|---|---|---|---|---|---|---|\n",
       "| primaryIdentifier | GWASResults.study.publication.pubMedId                        | snp_gwas_study_enrichment        | GWAS studies enriched for SNPs in this list.                                                                                                                                                                                   | GWASResults.study.name                           | SNP     | GWAS study Enrichment for SNPs  | SNP     | enrichment | NA          | NA                                                       | NA                 |\n",
       "| NA                | NA                                                            | chromosome_distribution_for_snp  | Actual: number of items in this list found on each chromosome.  Expected: given the total number of items on the chromosome and the number of items in this list, the number of items expected to be found on each chromosome. | NA                                               | SNP     | Chromosome Distribution         | SNP     | chart      | ColumnChart | organism.name=[list]                                     | Chromosome &amp; Count |\n",
       "| primaryIdentifier | goAnnotation.ontologyTerm.parents.identifier                  | go_enrichment_for_gene           | GO terms enriched for items in this list.                                                                                                                                                                                      | goAnnotation.ontologyTerm.parents.name           | Gene    | Gene Ontology Enrichment        | Gene    | enrichment | NA          | biological_process,cellular_component,molecular_function | NA                 |\n",
       "| primaryIdentifier | publications.pubMedId                                         | publication_enrichment           | Publications enriched for genes in this list.                                                                                                                                                                                  | publications.title                               | Gene    | Publication Enrichment          | Gene    | enrichment | NA          | NA                                                       | NA                 |\n",
       "| NA                | NA                                                            | chromosome_distribution_for_gene | Actual: number of items in this list found on each chromosome.  Expected: given the total number of items on the chromosome and the number of items in this list, the number of items expected to be found on each chromosome. | NA                                               | Gene    | Chromosome Distribution         | Gene    | chart      | ColumnChart | organism.name=[list]                                     | Chromosome &amp; Count |\n",
       "| primaryIdentifier | pathways.identifier                                           | pathway_enrichment               | Pathways enriched for genes in this list - data from KEGG and Reactome                                                                                                                                                         | pathways.name                                    | Gene    | Pathway Enrichment              | Gene    | enrichment | NA          | All,KEGG pathways data set,Reactome data set             | NA                 |\n",
       "| primaryIdentifier | GWASResults.study.publication.pubMedId                        | snp_publication_enrichment       | Publications enriched for SNPs in this list.                                                                                                                                                                                   | GWASResults.study.publication.title              | SNP     | Publication Enrichment for SNPs | SNP     | enrichment | NA          | NA                                                       | NA                 |\n",
       "| primaryIdentifier | proteins.proteinDomainRegions.proteinDomain.primaryIdentifier | prot_dom_enrichment_for_gene     | Protein Domains enriched for items in this list.                                                                                                                                                                               | proteins.proteinDomainRegions.proteinDomain.name | Gene    | Protein Domain Enrichment       | Gene    | enrichment | NA          | NA                                                       | NA                 |\n",
       "| primaryIdentifier | proteinDomainRegions.proteinDomain.primaryIdentifier          | prot_dom_enrichment_for_protein  | Protein Domains enriched for items in this list.                                                                                                                                                                               | proteinDomainRegions.proteinDomain.name          | Protein | Protein Domain Enrichment       | Protein | enrichment | NA          | NA                                                       | NA                 |\n",
       "| NA                | NA                                                            | interactions                     | Genes (from the list or not) that interact with genes in this list.  Counts may include the same interaction more than once if observed in multiple experiments.                                                               | NA                                               | NA      | Interactions                    | Gene    | table      | NA          | NA                                                       | NA                 |\n",
       "\n"
      ],
      "text/plain": [
       "      startClassDisplay\n",
       " [1,] primaryIdentifier\n",
       " [2,] NA               \n",
       " [3,] primaryIdentifier\n",
       " [4,] primaryIdentifier\n",
       " [5,] NA               \n",
       " [6,] primaryIdentifier\n",
       " [7,] primaryIdentifier\n",
       " [8,] primaryIdentifier\n",
       " [9,] primaryIdentifier\n",
       "[10,] NA               \n",
       "      enrichIdentifier                                             \n",
       " [1,] GWASResults.study.publication.pubMedId                       \n",
       " [2,] NA                                                           \n",
       " [3,] goAnnotation.ontologyTerm.parents.identifier                 \n",
       " [4,] publications.pubMedId                                        \n",
       " [5,] NA                                                           \n",
       " [6,] pathways.identifier                                          \n",
       " [7,] GWASResults.study.publication.pubMedId                       \n",
       " [8,] proteins.proteinDomainRegions.proteinDomain.primaryIdentifier\n",
       " [9,] proteinDomainRegions.proteinDomain.primaryIdentifier         \n",
       "[10,] NA                                                           \n",
       "      name                            \n",
       " [1,] snp_gwas_study_enrichment       \n",
       " [2,] chromosome_distribution_for_snp \n",
       " [3,] go_enrichment_for_gene          \n",
       " [4,] publication_enrichment          \n",
       " [5,] chromosome_distribution_for_gene\n",
       " [6,] pathway_enrichment              \n",
       " [7,] snp_publication_enrichment      \n",
       " [8,] prot_dom_enrichment_for_gene    \n",
       " [9,] prot_dom_enrichment_for_protein \n",
       "[10,] interactions                    \n",
       "      description                                                                                                                                                                                                                   \n",
       " [1,] GWAS studies enriched for SNPs in this list.                                                                                                                                                                                  \n",
       " [2,] Actual: number of items in this list found on each chromosome.  Expected: given the total number of items on the chromosome and the number of items in this list, the number of items expected to be found on each chromosome.\n",
       " [3,] GO terms enriched for items in this list.                                                                                                                                                                                     \n",
       " [4,] Publications enriched for genes in this list.                                                                                                                                                                                 \n",
       " [5,] Actual: number of items in this list found on each chromosome.  Expected: given the total number of items on the chromosome and the number of items in this list, the number of items expected to be found on each chromosome.\n",
       " [6,] Pathways enriched for genes in this list - data from KEGG and Reactome                                                                                                                                                        \n",
       " [7,] Publications enriched for SNPs in this list.                                                                                                                                                                                  \n",
       " [8,] Protein Domains enriched for items in this list.                                                                                                                                                                              \n",
       " [9,] Protein Domains enriched for items in this list.                                                                                                                                                                              \n",
       "[10,] Genes (from the list or not) that interact with genes in this list.  Counts may include the same interaction more than once if observed in multiple experiments.                                                              \n",
       "      enrich                                           startClass\n",
       " [1,] GWASResults.study.name                           SNP       \n",
       " [2,] NA                                               SNP       \n",
       " [3,] goAnnotation.ontologyTerm.parents.name           Gene      \n",
       " [4,] publications.title                               Gene      \n",
       " [5,] NA                                               Gene      \n",
       " [6,] pathways.name                                    Gene      \n",
       " [7,] GWASResults.study.publication.title              SNP       \n",
       " [8,] proteins.proteinDomainRegions.proteinDomain.name Gene      \n",
       " [9,] proteinDomainRegions.proteinDomain.name          Protein   \n",
       "[10,] NA                                               NA        \n",
       "      title                           targets widgetType chartType  \n",
       " [1,] GWAS study Enrichment for SNPs  SNP     enrichment NA         \n",
       " [2,] Chromosome Distribution         SNP     chart      ColumnChart\n",
       " [3,] Gene Ontology Enrichment        Gene    enrichment NA         \n",
       " [4,] Publication Enrichment          Gene    enrichment NA         \n",
       " [5,] Chromosome Distribution         Gene    chart      ColumnChart\n",
       " [6,] Pathway Enrichment              Gene    enrichment NA         \n",
       " [7,] Publication Enrichment for SNPs SNP     enrichment NA         \n",
       " [8,] Protein Domain Enrichment       Gene    enrichment NA         \n",
       " [9,] Protein Domain Enrichment       Protein enrichment NA         \n",
       "[10,] Interactions                    Gene    table      NA         \n",
       "      filters                                                 \n",
       " [1,] NA                                                      \n",
       " [2,] organism.name=[list]                                    \n",
       " [3,] biological_process,cellular_component,molecular_function\n",
       " [4,] NA                                                      \n",
       " [5,] organism.name=[list]                                    \n",
       " [6,] All,KEGG pathways data set,Reactome data set            \n",
       " [7,] NA                                                      \n",
       " [8,] NA                                                      \n",
       " [9,] NA                                                      \n",
       "[10,] NA                                                      \n",
       "      labels            \n",
       " [1,] NA                \n",
       " [2,] Chromosome & Count\n",
       " [3,] NA                \n",
       " [4,] NA                \n",
       " [5,] Chromosome & Count\n",
       " [6,] NA                \n",
       " [7,] NA                \n",
       " [8,] NA                \n",
       " [9,] NA                \n",
       "[10,] NA                "
      ]
     },
     "metadata": {},
     "output_type": "display_data"
    }
   ],
   "source": [
    "# First, we'll retrieve the widgets available from HumanMine and store it in a variable called `humanWidgets`. \n",
    "# This will tell us what types of enrichment are available.\n",
    "# \n",
    "# Syntax: getWidgets(im)\n",
    "\n",
    "\n",
    "# Print out the widgets so we can see what there is\n",
    "\n",
    "humanWidgets\n"
   ]
  },
  {
   "cell_type": "markdown",
   "metadata": {},
   "source": [
    "Take a look through the widgets returned, especially the columns `targets` and `widgetType`. Since we plan to enrich the gene list `PL_GenomicsEngland_GenePanel:Genetic_Epilepsy_Syndromes`, we're only interested in widgets that target `Gene`s. Similarly, we don't need to look at any widgets that aren't `enrichment` type widgets."
   ]
  },
  {
   "cell_type": "code",
   "execution_count": 2,
   "metadata": {},
   "outputs": [
    {
     "ename": "ERROR",
     "evalue": "Error in parse(text = x, srcfile = src): <text>:6:0: unexpected end of input\n4: \n5: humanWidgetsDataFrame <- #put data frame code here\n  ^\n",
     "output_type": "error",
     "traceback": [
      "Error in parse(text = x, srcfile = src): <text>:6:0: unexpected end of input\n4: \n5: humanWidgetsDataFrame <- #put data frame code here\n  ^\nTraceback:\n"
     ]
    }
   ],
   "source": [
    "# We'll put the widget list `humanWidgets` in to a data frame, so it's easy to filter.\n",
    "#\n",
    "# Syntax: as.data.frame(LIST_NAME_HERE)\n",
    "\n",
    "humanWidgetsDataFrame <- #put data frame code here"
   ]
  },
  {
   "cell_type": "markdown",
   "metadata": {},
   "source": [
    "Now let's ask the data frame to give us a subset of the widgets.  \n",
    "We want the following filters: \n",
    "- `widgetType` should be `'enrichment'`\n",
    "- `targets` should be `Gene`"
   ]
  },
  {
   "cell_type": "code",
   "execution_count": null,
   "metadata": {},
   "outputs": [],
   "source": [
    "# Syntax: subset(YOU_DATA_FRAME, COLUMN1 == 'VALUE1' & COLUMN2 == 'VALUE2' )\n"
   ]
  },
  {
   "cell_type": "markdown",
   "metadata": {},
   "source": [
    "#### Syntax Note: `=` vs `==`\n",
    "##### Assignment operator: `=` or `<-`\n",
    "In the code example above, we use the double equals sign `==`. This is because a single equals sign is used for *assignment*, e.g. `kittens = 5`, which would assign the value 5 to the variable `kittens`.  \n",
    "\n",
    "In R we also use `<-` for assignment, so `kittens = 5` and `kittens <- 5` do (basically) the same thing.\n",
    "\n",
    "##### Comparison operator: `==`\n",
    "The double equals, however, is used for comparison - when we say `widgetType == 'enrichment'` we're saying that the code should compare all `widgetTypes`, and only give us ones that are equal to `enrichment`. "
   ]
  },
  {
   "cell_type": "markdown",
   "metadata": {},
   "source": [
    "### Perform enrichment analysis\n",
    "\n",
    "Looking at the filtered list of widgets above, it looks like the widget we want to use to check for enriched GO Terms is named `go_enrichment_for_gene`. We'll use the `doEnrichment` method to get the enrichment results from HumanMine. "
   ]
  },
  {
   "cell_type": "code",
   "execution_count": 7,
   "metadata": {},
   "outputs": [
    {
     "data": {
      "text/html": [
       "<dl>\n",
       "\t<dt>$data</dt>\n",
       "\t\t<dd><table>\n",
       "<caption>A data.frame: 9 × 5</caption>\n",
       "<thead>\n",
       "\t<tr><th scope=col>identifier</th><th scope=col>description</th><th scope=col>pValue</th><th scope=col>count</th><th scope=col>populationAnnotationCount</th></tr>\n",
       "\t<tr><th scope=col>&lt;chr&gt;</th><th scope=col>&lt;chr&gt;</th><th scope=col>&lt;chr&gt;</th><th scope=col>&lt;chr&gt;</th><th scope=col>&lt;chr&gt;</th></tr>\n",
       "</thead>\n",
       "<tbody>\n",
       "\t<tr><td>GO:0086010</td><td>membrane depolarization during action potential</td><td>0.0029933397620292668</td><td>3</td><td>36  </td></tr>\n",
       "\t<tr><td>GO:0019226</td><td>transmission of nerve impulse                  </td><td>0.012440595908190567 </td><td>3</td><td>72  </td></tr>\n",
       "\t<tr><td>GO:0051899</td><td>membrane depolarization                        </td><td>0.013711012061119023 </td><td>3</td><td>85  </td></tr>\n",
       "\t<tr><td>GO:0019227</td><td>neuronal action potential propagation          </td><td>0.015706289435420368 </td><td>2</td><td>9   </td></tr>\n",
       "\t<tr><td>GO:0098870</td><td>action potential propagation                   </td><td>0.015706289435420368 </td><td>2</td><td>9   </td></tr>\n",
       "\t<tr><td>GO:0042391</td><td>regulation of membrane potential               </td><td>0.015721651039763786 </td><td>4</td><td>421 </td></tr>\n",
       "\t<tr><td>GO:0001508</td><td>action potential                               </td><td>0.019257259325613202 </td><td>3</td><td>126 </td></tr>\n",
       "\t<tr><td>GO:0035725</td><td>sodium ion transmembrane transport             </td><td>0.022633164613943716 </td><td>3</td><td>139 </td></tr>\n",
       "\t<tr><td>GO:0050877</td><td>nervous system process                         </td><td>0.03723962575587324  </td><td>5</td><td>1365</td></tr>\n",
       "</tbody>\n",
       "</table>\n",
       "</dd>\n",
       "\t<dt>$populationCount</dt>\n",
       "\t\t<dd>16597</dd>\n",
       "\t<dt>$notAnalysed</dt>\n",
       "\t\t<dd>0</dd>\n",
       "\t<dt>$im</dt>\n",
       "\t\t<dd><dl>\n",
       "\t<dt>$mine</dt>\n",
       "\t\t<dd><strong>HumanMine:</strong> 'http://www.humanmine.org/humanmine'</dd>\n",
       "\t<dt>$token</dt>\n",
       "\t\t<dd>''</dd>\n",
       "</dl>\n",
       "</dd>\n",
       "\t<dt>$parameters</dt>\n",
       "\t\t<dd><dl class=dl-horizontal>\n",
       "\t<dt>genelist</dt>\n",
       "\t\t<dd>'PL_GenomicsEngland_GenePanel:Genetic_Epilepsy_Syndromes'</dd>\n",
       "\t<dt>widget</dt>\n",
       "\t\t<dd>'go_enrichment_for_gene'</dd>\n",
       "\t<dt>maxp</dt>\n",
       "\t\t<dd>'0.05'</dd>\n",
       "\t<dt>correction</dt>\n",
       "\t\t<dd>'Benjamini Hochberg'</dd>\n",
       "</dl>\n",
       "</dd>\n",
       "</dl>\n"
      ],
      "text/latex": [
       "\\begin{description}\n",
       "\\item[\\$data] A data.frame: 9 × 5\n",
       "\\begin{tabular}{r|lllll}\n",
       " identifier & description & pValue & count & populationAnnotationCount\\\\\n",
       " <chr> & <chr> & <chr> & <chr> & <chr>\\\\\n",
       "\\hline\n",
       "\t GO:0086010 & membrane depolarization during action potential & 0.0029933397620292668 & 3 & 36  \\\\\n",
       "\t GO:0019226 & transmission of nerve impulse                   & 0.012440595908190567  & 3 & 72  \\\\\n",
       "\t GO:0051899 & membrane depolarization                         & 0.013711012061119023  & 3 & 85  \\\\\n",
       "\t GO:0019227 & neuronal action potential propagation           & 0.015706289435420368  & 2 & 9   \\\\\n",
       "\t GO:0098870 & action potential propagation                    & 0.015706289435420368  & 2 & 9   \\\\\n",
       "\t GO:0042391 & regulation of membrane potential                & 0.015721651039763786  & 4 & 421 \\\\\n",
       "\t GO:0001508 & action potential                                & 0.019257259325613202  & 3 & 126 \\\\\n",
       "\t GO:0035725 & sodium ion transmembrane transport              & 0.022633164613943716  & 3 & 139 \\\\\n",
       "\t GO:0050877 & nervous system process                          & 0.03723962575587324   & 5 & 1365\\\\\n",
       "\\end{tabular}\n",
       "\n",
       "\\item[\\$populationCount] 16597\n",
       "\\item[\\$notAnalysed] 0\n",
       "\\item[\\$im] \\begin{description}\n",
       "\\item[\\$mine] \\textbf{HumanMine:} 'http://www.humanmine.org/humanmine'\n",
       "\\item[\\$token] ''\n",
       "\\end{description}\n",
       "\n",
       "\\item[\\$parameters] \\begin{description*}\n",
       "\\item[genelist] 'PL\\_GenomicsEngland\\_GenePanel:Genetic\\_Epilepsy\\_Syndromes'\n",
       "\\item[widget] 'go\\_enrichment\\_for\\_gene'\n",
       "\\item[maxp] '0.05'\n",
       "\\item[correction] 'Benjamini Hochberg'\n",
       "\\end{description*}\n",
       "\n",
       "\\end{description}\n"
      ],
      "text/markdown": [
       "$data\n",
       ":   \n",
       "A data.frame: 9 × 5\n",
       "\n",
       "| identifier &lt;chr&gt; | description &lt;chr&gt; | pValue &lt;chr&gt; | count &lt;chr&gt; | populationAnnotationCount &lt;chr&gt; |\n",
       "|---|---|---|---|---|\n",
       "| GO:0086010 | membrane depolarization during action potential | 0.0029933397620292668 | 3 | 36   |\n",
       "| GO:0019226 | transmission of nerve impulse                   | 0.012440595908190567  | 3 | 72   |\n",
       "| GO:0051899 | membrane depolarization                         | 0.013711012061119023  | 3 | 85   |\n",
       "| GO:0019227 | neuronal action potential propagation           | 0.015706289435420368  | 2 | 9    |\n",
       "| GO:0098870 | action potential propagation                    | 0.015706289435420368  | 2 | 9    |\n",
       "| GO:0042391 | regulation of membrane potential                | 0.015721651039763786  | 4 | 421  |\n",
       "| GO:0001508 | action potential                                | 0.019257259325613202  | 3 | 126  |\n",
       "| GO:0035725 | sodium ion transmembrane transport              | 0.022633164613943716  | 3 | 139  |\n",
       "| GO:0050877 | nervous system process                          | 0.03723962575587324   | 5 | 1365 |\n",
       "\n",
       "\n",
       "$populationCount\n",
       ":   16597\n",
       "$notAnalysed\n",
       ":   0\n",
       "$im\n",
       ":   $mine\n",
       ":   **HumanMine:** 'http://www.humanmine.org/humanmine'\n",
       "$token\n",
       ":   ''\n",
       "\n",
       "\n",
       "\n",
       "$parameters\n",
       ":   genelist\n",
       ":   'PL_GenomicsEngland_GenePanel:Genetic_Epilepsy_Syndromes'widget\n",
       ":   'go_enrichment_for_gene'maxp\n",
       ":   '0.05'correction\n",
       ":   'Benjamini Hochberg'\n",
       "\n",
       "\n",
       "\n",
       "\n"
      ],
      "text/plain": [
       "$data\n",
       "  identifier                                     description\n",
       "1 GO:0086010 membrane depolarization during action potential\n",
       "2 GO:0019226                   transmission of nerve impulse\n",
       "3 GO:0051899                         membrane depolarization\n",
       "4 GO:0019227           neuronal action potential propagation\n",
       "5 GO:0098870                    action potential propagation\n",
       "6 GO:0042391                regulation of membrane potential\n",
       "7 GO:0001508                                action potential\n",
       "8 GO:0035725              sodium ion transmembrane transport\n",
       "9 GO:0050877                          nervous system process\n",
       "                 pValue count populationAnnotationCount\n",
       "1 0.0029933397620292668     3                        36\n",
       "2  0.012440595908190567     3                        72\n",
       "3  0.013711012061119023     3                        85\n",
       "4  0.015706289435420368     2                         9\n",
       "5  0.015706289435420368     2                         9\n",
       "6  0.015721651039763786     4                       421\n",
       "7  0.019257259325613202     3                       126\n",
       "8  0.022633164613943716     3                       139\n",
       "9   0.03723962575587324     5                      1365\n",
       "\n",
       "$populationCount\n",
       "[1] 16597\n",
       "\n",
       "$notAnalysed\n",
       "[1] 0\n",
       "\n",
       "$im\n",
       "$im$mine\n",
       "                           HumanMine \n",
       "\"http://www.humanmine.org/humanmine\" \n",
       "\n",
       "$im$token\n",
       "[1] \"\"\n",
       "\n",
       "\n",
       "$parameters\n",
       "                                                 genelist \n",
       "\"PL_GenomicsEngland_GenePanel:Genetic_Epilepsy_Syndromes\" \n",
       "                                                   widget \n",
       "                                 \"go_enrichment_for_gene\" \n",
       "                                                     maxp \n",
       "                                                   \"0.05\" \n",
       "                                               correction \n",
       "                                     \"Benjamini Hochberg\" \n"
      ]
     },
     "metadata": {},
     "output_type": "display_data"
    }
   ],
   "source": [
    "# We're using the widget `go_enrichment_for_gene` against the list name \n",
    "# `PL_GenomicsEngland_GenePanel:Genetic_Epilepsy_Syndromes`\n",
    "#\n",
    "#Syntax: \n",
    "#\n",
    "# GOEnrichmentResult <- doEnrichment(\n",
    "#   im = YOUR_CHOSEN_INTERMINE_HERE\n",
    "#   list = LIST_NAME_SAVE_ON_YOUR_CHOSEN_INTERMINE,\n",
    "#   widget = \"go_enrichment_for_gene\" #  Or whichever widget you're using\n",
    "#   organism = \"Homo sapiens\" # optional if results from more than one organism are retrieved\n",
    "# )\n",
    "\n",
    "GOEnrichmentResult <- doEnrichment(\n",
    "    # Put enrichment details here\n",
    ")\n",
    "\n",
    "# Print the results \n",
    "GOEnrichmentResult"
   ]
  },
  {
   "cell_type": "markdown",
   "metadata": {},
   "source": [
    "## Visualise it with Gene Answers \n",
    "\n",
    "    \n",
    "For the visualisation, we'll need both the enrichment results and the list of genes we originally enriched - but the list is still on the server. Let's run a query to get the primaryIdentifiers for the genes in `PL_GenomicsEngland_GenePanel:Genetic_Epilepsy_Syndromes`. \n",
    "\n",
    "Views to **Select**:  \n",
    "- `\"Gene.primaryIdentifier\"`\n",
    "\n",
    "**Constraints** to set: \n",
    "- Path: `\"Gene\"`\n",
    "- Operator: `IN`,\n",
    "- Value: `\"PL_GenomicsEngland_GenePanel:Genetic_Epilepsy_Syndromes\"`"
   ]
  },
  {
   "cell_type": "code",
   "execution_count": 3,
   "metadata": {},
   "outputs": [
    {
     "ename": "ERROR",
     "evalue": "Error in setQuery(select = c(\"Gene.primaryIdentifier\"), where = setConstraints(paths = c(\"Gene\"), : could not find function \"setQuery\"\n",
     "output_type": "error",
     "traceback": [
      "Error in setQuery(select = c(\"Gene.primaryIdentifier\"), where = setConstraints(paths = c(\"Gene\"), : could not find function \"setQuery\"\nTraceback:\n"
     ]
    }
   ],
   "source": [
    "# We'll be using the setQuery method here\n",
    "# \n",
    "# Syntax: \n",
    "# setQuery( \n",
    "#  select = c(\"VIEW.NAME1\", \"VIEW.NAME2\", .... ),\n",
    "#  where = setConstraints(\n",
    "#    paths = c(\"CONSTRAINT.PATH.A\", \"CONSTRAINT.PATH.B\"),\n",
    "#    operators = c(\"CONSTRAINT.OPERATOR.A\", \"CONSTRAINT.OPERATOR.B\"),\n",
    "#    values = list(\"CONSTRAINT.VALUE.A\",\"CONSTRAINT.VALUE.B\")\n",
    "#  )\n",
    "#)\n",
    "queryEpilepsy <- setQuery(\n",
    "  # Choose which columns of data we'd like to see\n",
    "  select = c(\"Gene.primaryIdentifier\"),\n",
    "  where = setConstraints(\n",
    "      paths = c(\"Gene\"),\n",
    "      operators = c(\"IN\"),\n",
    "      values = list(\"PL_GenomicsEngland_GenePanel:Genetic_Epilepsy_Syndromes\"))\n",
    ")"
   ]
  },
  {
   "cell_type": "markdown",
   "metadata": {},
   "source": [
    "Okay, looking good! Now that we've set that query up, we need to actually run it."
   ]
  },
  {
   "cell_type": "code",
   "execution_count": null,
   "metadata": {},
   "outputs": [],
   "source": [
    "# Run the query using the syntax `runQuery(im, QUERY_HERE)` \n",
    "queryEpilepsyResults <- # Add run query details here\n",
    "\n",
    "# print the results:\n"
   ]
  },
  {
   "cell_type": "markdown",
   "metadata": {},
   "source": [
    "### Format data for GeneAnswers\n",
    "\n",
    "We'll be using [GeneAnswers](https://bioconductor.org/packages/release/bioc/html/GeneAnswers.html) to generate some visualisations of the data we've just fetched."
   ]
  },
  {
   "cell_type": "code",
   "execution_count": 5,
   "metadata": {},
   "outputs": [],
   "source": [
    "# load GeneAnswers package. Remember the syntax is `library(LIBRARYNAME)`\n",
    "\n"
   ]
  },
  {
   "cell_type": "markdown",
   "metadata": {},
   "source": [
    "We'll need to convert our InterMine data into a shape that GeneAnswers can read. Luckily, there's a nice method for that in InterMineR: `convertToGeneAnswers`. We'll need to pass it the following arguments:\n",
    "- `GOEnrichmentResult` - the enriched GO term results.\n",
    "- `queryEpilepsyResults` as the original list of IDs we enriched\n",
    "- `\"Gene.primaryIdentifier\"` as the type of IDs we're providing (as opposed to symbol or secondaryidentifiers)."
   ]
  },
  {
   "cell_type": "code",
   "execution_count": null,
   "metadata": {},
   "outputs": [],
   "source": [
    "# convert InterMineR Gene Ontology Enrichment analysis results to GeneAnswers object\n",
    "# Syntax: \n",
    "# convertToGeneAnswers(\n",
    "#  enrichmentResult = AN_INTERMINE_ENRICHMENT_RESULT,\n",
    "#  geneInput = data.frame(GeneID = ORIGINAL_LIST_OF_IDS_WE_ENRICHED_ON, \n",
    "#                         stringsAsFactors = FALSE),\n",
    "#  geneInputType = \"TYPE_OF_IDS_PROVIDED\" (e.g. \"Gene.primaryIdentifier\" or \"Gene.symbol\"),\n",
    "#  categoryType = \"GO\" # could also be null for a user-provided annotation list\n",
    "#)\n",
    "\n",
    "queryEpilepsyForGeneAnswers <- convertToGeneAnswers(\n",
    "    # Put the arguments here\n",
    "    )\n"
   ]
  },
  {
   "cell_type": "markdown",
   "metadata": {},
   "source": [
    "We can use the `summary(geneAnswersObjectHere)` function to see\n",
    "interesting info about our list + enrichment. Try it now: "
   ]
  },
  {
   "cell_type": "code",
   "execution_count": 10,
   "metadata": {},
   "outputs": [
    {
     "name": "stdout",
     "output_type": "stream",
     "text": [
      "This GeneAnswers instance was build from GO based on hyperG test.\n",
      "Statistical information of 9 categories with p value less than 0.05 are reported. Other categories are considered as nonsignificant.\n",
      "There are 9 categories related to the given 6 genes\n",
      "\n",
      "Summary of GeneAnswers instance information:\n",
      "\n",
      "Slot: geneInput\n",
      "  Gene.primaryIdentifier\n",
      "1                   2566\n",
      "2                  57094\n",
      "3                   6323\n",
      "4                   6324\n",
      "5                   6335\n",
      "6                  84059\n",
      "\n",
      "Slot: testType\n",
      "[1] \"hyperG\"\n",
      "\n",
      "Slot: pvalueT\n",
      "[1] 0.05\n",
      "\n",
      "Slot: genesInCategory\n",
      "$`GO:0086010`\n",
      "[1] \"6323\" \"6324\" \"6335\"\n",
      "\n",
      "$`GO:0019226`\n",
      "[1] \"6323\" \"6324\" \"6335\"\n",
      "\n",
      "$`GO:0051899`\n",
      "[1] \"6323\" \"6324\" \"6335\"\n",
      "\n",
      "$`GO:0019227`\n",
      "[1] \"6323\" \"6324\"\n",
      "\n",
      "$`GO:0098870`\n",
      "[1] \"6323\" \"6324\"\n",
      "\n",
      "$`GO:0042391`\n",
      "[1] \"2566\" \"6323\" \"6324\" \"6335\"\n",
      "\n",
      "......\n",
      "\n",
      "Slot: geneExprProfile\n",
      "NULL\n",
      "\n",
      "Slot: annLib\n",
      "[1] \"org.Hs.eg.db\"\n",
      "\n",
      "Slot: categoryType\n",
      "[1] \"GO\"\n",
      "\n",
      "Slot: enrichmentInfo\n",
      "           genes in Category percent in the observed List percent in the genome\n",
      "GO:0086010                 3                    0.5000000          0.0021690667\n",
      "GO:0019226                 3                    0.5000000          0.0043381334\n",
      "GO:0051899                 3                    0.5000000          0.0051214075\n",
      "GO:0019227                 2                    0.3333333          0.0005422667\n",
      "GO:0098870                 2                    0.3333333          0.0005422667\n",
      "GO:0042391                 4                    0.6666667          0.0253660300\n",
      "           fold of overrepresents odds ratio    p value fdr p value\n",
      "GO:0086010              230.51389  460.02778 0.00299334  0.00299334\n",
      "GO:0019226              115.25694  229.51389 0.01244060  0.01244060\n",
      "GO:0051899               97.62941  194.25882 0.01371101  0.01371101\n",
      "GO:0019227              614.70370  921.55556 0.01570629  0.01570629\n",
      "GO:0098870              614.70370  921.55556 0.01570629  0.01570629\n",
      "GO:0042391               26.28187   76.84561 0.01572165  0.01572165\n",
      "......\n"
     ]
    }
   ],
   "source": [
    "# Run the summary on the Gene Answersr object we made in the previous code cell. \n",
    "# The variable name we used was `queryEpilepsyForGeneAnswers` \n",
    "\n"
   ]
  },
  {
   "cell_type": "markdown",
   "metadata": {},
   "source": [
    "### It's time for some graphs\n",
    "\n",
    "For more info on how the graphs are constructed and what arguments you can pass them, visit the [GeneAnswers Bioconductor page](https://bioconductor.org/packages/release/bioc/html/GeneAnswers.html) - the vignettes and especially the manual have lots of helpful information.\n",
    "\n",
    "We'll start with a concept-gene network that shows which genes are associated with our given GO terms: \n"
   ]
  },
  {
   "cell_type": "code",
   "execution_count": 6,
   "metadata": {},
   "outputs": [
    {
     "ename": "ERROR",
     "evalue": "Error in parse(text = x, srcfile = src): <text>:3:35: unexpected '='\n2:                       colorValueColumn=#123456,\n3:                       centroidSize=\n                                     ^\n",
     "output_type": "error",
     "traceback": [
      "Error in parse(text = x, srcfile = src): <text>:3:35: unexpected '='\n2:                       colorValueColumn=#123456,\n3:                       centroidSize=\n                                     ^\nTraceback:\n"
     ]
    }
   ],
   "source": [
    "geneAnswersConceptNet(queryEpilepsyForGeneAnswers, # This is the Gene Answers object we created\n",
    "                      colorValueColumn=NULL,       # Default colours\n",
    "                      centroidSize='correctedPvalue', # the column used to size graph nodes\n",
    "                      output='fixed',              # don't spawn a new pop-up window \n",
    "                      geneSymbol = TRUE)           # Show gene symbols as labels"
   ]
  },
  {
   "cell_type": "markdown",
   "metadata": {},
   "source": [
    "#### GO structure network\n",
    "\n",
    "We can plot the GO terms that our list is enriched for to show their relationships to one another:"
   ]
  },
  {
   "cell_type": "code",
   "execution_count": 12,
   "metadata": {},
   "outputs": [
    {
     "name": "stdout",
     "output_type": "stream",
     "text": [
      "[1] \"Search Tree Merge without filterGraphIDs!\"\n",
      "[1] \"Searching hubs ...\"\n"
     ]
    },
    {
     "name": "stderr",
     "output_type": "stream",
     "text": [
      "Loading required package: GO.db\n",
      "\n"
     ]
    },
    {
     "name": "stdout",
     "output_type": "stream",
     "text": [
      "[1] \"The Graph without any nodes removal is not a connected one. Search 4 layer(s). Drawing network ...\"\n",
      "[1] \"Building graph structure ...\"\n",
      "[1] \"Removing NULL element ...\"\n",
      "[1] \"Removing NA ..., including NA in names of the input list\"\n",
      "[1] \"Converting to a matrix ...\"\n",
      "[1] \"For the given directed graph, the node 1 or 2 or 3 might be the root.\"\n"
     ]
    },
    {
     "data": {
      "image/png": "[encoded data removed]",
      "text/plain": [
       "Plot with title “”"
      ]
     },
     "metadata": {},
     "output_type": "display_data"
    }
   ],
   "source": [
    "geneAnswersConceptRelation(queryEpilepsyForGeneAnswers, # This is the Gene Answers object we created\n",
    "                           directed=TRUE,               # show arrows to indicate the direction of relationship\n",
    "                           output=\"fixed\",              # don't spawn a new pop-up window \n",
    "                           netMode='connection') "
   ]
  },
  {
   "cell_type": "markdown",
   "metadata": {},
   "source": [
    "#### Gene Interaction Network\n",
    "\n",
    "In this example, GeneAnswers uses the annotation package ‘org.Hs.eg.db’, which was used previously in convertToGeneAnswers function, to retrieve gene interactions for the specified genes."
   ]
  },
  {
   "cell_type": "code",
   "execution_count": 13,
   "metadata": {},
   "outputs": [
    {
     "name": "stdout",
     "output_type": "stream",
     "text": [
      "[1] \"Building graph structure ...\"\n",
      "[1] \"Removing NULL element ...\"\n",
      "[1] \"Removing NA ..., including NA in names of the input list\"\n",
      "[1] \"Converting to a matrix ...\"\n",
      "[1] \"For the given undirected graph, the node 3 might be the root.\"\n"
     ]
    },
    {
     "data": {
      "image/png": "[encoded data removed]",
      "text/plain": [
       "Plot with title “”"
      ]
     },
     "metadata": {},
     "output_type": "display_data"
    }
   ],
   "source": [
    "buildNet(getGeneInput(queryEpilepsyForGeneAnswers)[,1], # queryEpilepsyForGeneAnswers\n",
    "         idType='GeneInteraction', \n",
    "         layers=3,\n",
    "         output=\"fixed\",            # don't spawn a new pop-up window \n",
    "         filterGraphIDs=getGeneInput(queryEpilepsyForGeneAnswers)[,1],\n",
    "         filterLayer=2,             # How many layers deep to look for interactors. Try changing it to 3! \n",
    "         netMode='connection')"
   ]
  },
  {
   "cell_type": "markdown",
   "metadata": {},
   "source": [
    "Gene Interaction Network for **PL_GenomicsEngland_GenePanel:Genetic_Epilepsy_Syndromes**.   \n",
    "\n",
    "The large black dots with yellow frame stand for the six given genes. They also connect to other genes by dark-blue-purple edges. Small black dots represent the other genes from getGeneInput. Small white dots are genes that are not in the genes from getGeneInput, but interact with these genes. "
   ]
  },
  {
   "cell_type": "markdown",
   "metadata": {},
   "source": [
    "#### Genes vs GO Term heat map\n",
    "\n",
    "Let's plot the genes which were enriched for GO terms in a heat map..."
   ]
  },
  {
   "cell_type": "code",
   "execution_count": 14,
   "metadata": {},
   "outputs": [
    {
     "name": "stdout",
     "output_type": "stream",
     "text": [
      "initial  value 0.000000 \n",
      "final  value 0.000000 \n",
      "converged\n",
      "initial  value 0.000000 \n",
      "final  value 0.000000 \n",
      "converged\n"
     ]
    },
    {
     "data": {
      "image/png": "[encoded data removed]",
      "text/plain": [
       "plot without title"
      ]
     },
     "metadata": {},
     "output_type": "display_data"
    }
   ],
   "source": [
    "geneAnswersHeatmap(queryEpilepsyForGeneAnswers, \n",
    "                   catTerm=TRUE, \n",
    "                   geneSymbol=TRUE,\n",
    "                   cex.axis = 0.75)"
   ]
  }
 ],
 "metadata": {
  "kernelspec": {
   "display_name": "R",
   "language": "R",
   "name": "ir"
  },
  "language_info": {
   "codemirror_mode": "r",
   "file_extension": ".r",
   "mimetype": "text/x-r-source",
   "name": "R",
   "pygments_lexer": "r",
   "version": "3.6.0"
  }
 },
 "nbformat": 4,
 "nbformat_minor": 2
}
